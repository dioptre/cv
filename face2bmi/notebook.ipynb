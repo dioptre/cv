{
 "cells": [
  {
   "cell_type": "code",
   "execution_count": 1,
   "metadata": {},
   "outputs": [],
   "source": [
    "%matplotlib inline\n",
    "import numpy as np\n",
    "import pandas as pd\n",
    "import re"
   ]
  },
  {
   "cell_type": "code",
   "execution_count": 2,
   "metadata": {},
   "outputs": [
    {
     "data": {
      "text/html": [
       "<div>\n",
       "<style scoped>\n",
       "    .dataframe tbody tr th:only-of-type {\n",
       "        vertical-align: middle;\n",
       "    }\n",
       "\n",
       "    .dataframe tbody tr th {\n",
       "        vertical-align: top;\n",
       "    }\n",
       "\n",
       "    .dataframe thead th {\n",
       "        text-align: right;\n",
       "    }\n",
       "</style>\n",
       "<table border=\"1\" class=\"dataframe\">\n",
       "  <thead>\n",
       "    <tr style=\"text-align: right;\">\n",
       "      <th></th>\n",
       "      <th>nameid</th>\n",
       "      <th>name</th>\n",
       "      <th>book_date</th>\n",
       "      <th>city</th>\n",
       "      <th>holding_location</th>\n",
       "      <th>age</th>\n",
       "      <th>height</th>\n",
       "      <th>weight</th>\n",
       "      <th>race</th>\n",
       "      <th>sex</th>\n",
       "      <th>eyes</th>\n",
       "      <th>hair</th>\n",
       "      <th>bookid</th>\n",
       "    </tr>\n",
       "  </thead>\n",
       "  <tbody>\n",
       "    <tr>\n",
       "      <th>0</th>\n",
       "      <td>531010</td>\n",
       "      <td>TROY MIKEL HOKE</td>\n",
       "      <td>6/30/2019 4:24:07 AM</td>\n",
       "      <td>DES MOINES, IA</td>\n",
       "      <td>PCJ</td>\n",
       "      <td>28</td>\n",
       "      <td>5' 09\"</td>\n",
       "      <td>160</td>\n",
       "      <td>White</td>\n",
       "      <td>Male</td>\n",
       "      <td>Brown</td>\n",
       "      <td>Brown</td>\n",
       "      <td>296174</td>\n",
       "    </tr>\n",
       "    <tr>\n",
       "      <th>1</th>\n",
       "      <td>695392</td>\n",
       "      <td>MARTIN WAYNE LOONEY</td>\n",
       "      <td>7/12/2019 10:59:29 AM</td>\n",
       "      <td>URBANDALE, IA</td>\n",
       "      <td>PCJ</td>\n",
       "      <td>26</td>\n",
       "      <td>6' 00\"</td>\n",
       "      <td>175</td>\n",
       "      <td>Black</td>\n",
       "      <td>Male</td>\n",
       "      <td>Brown</td>\n",
       "      <td>Black</td>\n",
       "      <td>296824</td>\n",
       "    </tr>\n",
       "    <tr>\n",
       "      <th>2</th>\n",
       "      <td>850957</td>\n",
       "      <td>REESE WAYNE WEGENER</td>\n",
       "      <td>7/9/2019 4:59:27 PM</td>\n",
       "      <td>DES MOINES, IA</td>\n",
       "      <td>WASH-M</td>\n",
       "      <td>30</td>\n",
       "      <td>6' 00\"</td>\n",
       "      <td>180</td>\n",
       "      <td>White</td>\n",
       "      <td>Male</td>\n",
       "      <td>Blue</td>\n",
       "      <td>Brown</td>\n",
       "      <td>296645</td>\n",
       "    </tr>\n",
       "    <tr>\n",
       "      <th>3</th>\n",
       "      <td>559407</td>\n",
       "      <td>TALONDA NASHAWN SCALES</td>\n",
       "      <td>6/30/2019 8:17:39 PM</td>\n",
       "      <td>DES MOINES, IA</td>\n",
       "      <td>PCJ</td>\n",
       "      <td>37</td>\n",
       "      <td>5' 00\"</td>\n",
       "      <td>168</td>\n",
       "      <td>Black</td>\n",
       "      <td>Female</td>\n",
       "      <td>Brown</td>\n",
       "      <td>Black</td>\n",
       "      <td>296194</td>\n",
       "    </tr>\n",
       "    <tr>\n",
       "      <th>4</th>\n",
       "      <td>65861</td>\n",
       "      <td>RACHELLE ANGELIC JONES</td>\n",
       "      <td>3/18/2019 12:53:17 PM</td>\n",
       "      <td>DES MOINES, IA</td>\n",
       "      <td>PCJ</td>\n",
       "      <td>31</td>\n",
       "      <td>5' 08\"</td>\n",
       "      <td>190</td>\n",
       "      <td>Black</td>\n",
       "      <td>Female</td>\n",
       "      <td>Brown</td>\n",
       "      <td>Black</td>\n",
       "      <td>290118</td>\n",
       "    </tr>\n",
       "  </tbody>\n",
       "</table>\n",
       "</div>"
      ],
      "text/plain": [
       "   nameid                    name              book_date            city  \\\n",
       "0  531010         TROY MIKEL HOKE   6/30/2019 4:24:07 AM  DES MOINES, IA   \n",
       "1  695392     MARTIN WAYNE LOONEY  7/12/2019 10:59:29 AM   URBANDALE, IA   \n",
       "2  850957     REESE WAYNE WEGENER    7/9/2019 4:59:27 PM  DES MOINES, IA   \n",
       "3  559407  TALONDA NASHAWN SCALES   6/30/2019 8:17:39 PM  DES MOINES, IA   \n",
       "4   65861  RACHELLE ANGELIC JONES  3/18/2019 12:53:17 PM  DES MOINES, IA   \n",
       "\n",
       "  holding_location  age  height  weight   race     sex   eyes   hair  bookid  \n",
       "0              PCJ   28  5' 09\"     160  White    Male  Brown  Brown  296174  \n",
       "1              PCJ   26  6' 00\"     175  Black    Male  Brown  Black  296824  \n",
       "2           WASH-M   30  6' 00\"     180  White    Male   Blue  Brown  296645  \n",
       "3              PCJ   37  5' 00\"     168  Black  Female  Brown  Black  296194  \n",
       "4              PCJ   31  5' 08\"     190  Black  Female  Brown  Black  290118  "
      ]
     },
     "execution_count": 2,
     "metadata": {},
     "output_type": "execute_result"
    }
   ],
   "source": [
    "# explore training data\n",
    "data = pd.read_csv('./full.csv')\n",
    "data.head()"
   ]
  },
  {
   "cell_type": "code",
   "execution_count": 3,
   "metadata": {},
   "outputs": [
    {
     "data": {
      "text/plain": [
       "<matplotlib.axes._subplots.AxesSubplot at 0x7f5123452be0>"
      ]
     },
     "execution_count": 3,
     "metadata": {},
     "output_type": "execute_result"
    },
    {
     "data": {
      "image/png": "[encoded data removed]",
      "text/plain": [
       "<Figure size 432x288 with 1 Axes>"
      ]
     },
     "metadata": {
      "needs_background": "light"
     },
     "output_type": "display_data"
    }
   ],
   "source": [
    "data['height'] = data.height.map(lambda i: re.sub('[^0-9]','',i)).map(lambda i: float(i[0])*12 + float(i[1:])/10)\n",
    "data.height.hist()"
   ]
  },
  {
   "cell_type": "code",
   "execution_count": 4,
   "metadata": {},
   "outputs": [
    {
     "data": {
      "text/html": [
       "<div>\n",
       "<style scoped>\n",
       "    .dataframe tbody tr th:only-of-type {\n",
       "        vertical-align: middle;\n",
       "    }\n",
       "\n",
       "    .dataframe tbody tr th {\n",
       "        vertical-align: top;\n",
       "    }\n",
       "\n",
       "    .dataframe thead th {\n",
       "        text-align: right;\n",
       "    }\n",
       "</style>\n",
       "<table border=\"1\" class=\"dataframe\">\n",
       "  <thead>\n",
       "    <tr style=\"text-align: right;\">\n",
       "      <th></th>\n",
       "      <th>nameid</th>\n",
       "      <th>name</th>\n",
       "      <th>book_date</th>\n",
       "      <th>city</th>\n",
       "      <th>holding_location</th>\n",
       "      <th>age</th>\n",
       "      <th>height</th>\n",
       "      <th>weight</th>\n",
       "      <th>race</th>\n",
       "      <th>sex</th>\n",
       "      <th>eyes</th>\n",
       "      <th>hair</th>\n",
       "      <th>bookid</th>\n",
       "      <th>bmi</th>\n",
       "    </tr>\n",
       "  </thead>\n",
       "  <tbody>\n",
       "    <tr>\n",
       "      <th>0</th>\n",
       "      <td>531010</td>\n",
       "      <td>TROY MIKEL HOKE</td>\n",
       "      <td>6/30/2019 4:24:07 AM</td>\n",
       "      <td>DES MOINES, IA</td>\n",
       "      <td>PCJ</td>\n",
       "      <td>28</td>\n",
       "      <td>60.9</td>\n",
       "      <td>160</td>\n",
       "      <td>White</td>\n",
       "      <td>Male</td>\n",
       "      <td>Brown</td>\n",
       "      <td>Brown</td>\n",
       "      <td>296174</td>\n",
       "      <td>30.327787</td>\n",
       "    </tr>\n",
       "    <tr>\n",
       "      <th>1</th>\n",
       "      <td>695392</td>\n",
       "      <td>MARTIN WAYNE LOONEY</td>\n",
       "      <td>7/12/2019 10:59:29 AM</td>\n",
       "      <td>URBANDALE, IA</td>\n",
       "      <td>PCJ</td>\n",
       "      <td>26</td>\n",
       "      <td>72.0</td>\n",
       "      <td>175</td>\n",
       "      <td>Black</td>\n",
       "      <td>Male</td>\n",
       "      <td>Brown</td>\n",
       "      <td>Black</td>\n",
       "      <td>296824</td>\n",
       "      <td>23.731674</td>\n",
       "    </tr>\n",
       "    <tr>\n",
       "      <th>2</th>\n",
       "      <td>850957</td>\n",
       "      <td>REESE WAYNE WEGENER</td>\n",
       "      <td>7/9/2019 4:59:27 PM</td>\n",
       "      <td>DES MOINES, IA</td>\n",
       "      <td>WASH-M</td>\n",
       "      <td>30</td>\n",
       "      <td>72.0</td>\n",
       "      <td>180</td>\n",
       "      <td>White</td>\n",
       "      <td>Male</td>\n",
       "      <td>Blue</td>\n",
       "      <td>Brown</td>\n",
       "      <td>296645</td>\n",
       "      <td>24.409722</td>\n",
       "    </tr>\n",
       "    <tr>\n",
       "      <th>3</th>\n",
       "      <td>559407</td>\n",
       "      <td>TALONDA NASHAWN SCALES</td>\n",
       "      <td>6/30/2019 8:17:39 PM</td>\n",
       "      <td>DES MOINES, IA</td>\n",
       "      <td>PCJ</td>\n",
       "      <td>37</td>\n",
       "      <td>60.0</td>\n",
       "      <td>168</td>\n",
       "      <td>Black</td>\n",
       "      <td>Female</td>\n",
       "      <td>Brown</td>\n",
       "      <td>Black</td>\n",
       "      <td>296194</td>\n",
       "      <td>32.806667</td>\n",
       "    </tr>\n",
       "    <tr>\n",
       "      <th>4</th>\n",
       "      <td>65861</td>\n",
       "      <td>RACHELLE ANGELIC JONES</td>\n",
       "      <td>3/18/2019 12:53:17 PM</td>\n",
       "      <td>DES MOINES, IA</td>\n",
       "      <td>PCJ</td>\n",
       "      <td>31</td>\n",
       "      <td>60.8</td>\n",
       "      <td>190</td>\n",
       "      <td>Black</td>\n",
       "      <td>Female</td>\n",
       "      <td>Brown</td>\n",
       "      <td>Black</td>\n",
       "      <td>290118</td>\n",
       "      <td>36.132812</td>\n",
       "    </tr>\n",
       "  </tbody>\n",
       "</table>\n",
       "</div>"
      ],
      "text/plain": [
       "   nameid                    name              book_date            city  \\\n",
       "0  531010         TROY MIKEL HOKE   6/30/2019 4:24:07 AM  DES MOINES, IA   \n",
       "1  695392     MARTIN WAYNE LOONEY  7/12/2019 10:59:29 AM   URBANDALE, IA   \n",
       "2  850957     REESE WAYNE WEGENER    7/9/2019 4:59:27 PM  DES MOINES, IA   \n",
       "3  559407  TALONDA NASHAWN SCALES   6/30/2019 8:17:39 PM  DES MOINES, IA   \n",
       "4   65861  RACHELLE ANGELIC JONES  3/18/2019 12:53:17 PM  DES MOINES, IA   \n",
       "\n",
       "  holding_location  age  height  weight   race     sex   eyes   hair  bookid  \\\n",
       "0              PCJ   28    60.9     160  White    Male  Brown  Brown  296174   \n",
       "1              PCJ   26    72.0     175  Black    Male  Brown  Black  296824   \n",
       "2           WASH-M   30    72.0     180  White    Male   Blue  Brown  296645   \n",
       "3              PCJ   37    60.0     168  Black  Female  Brown  Black  296194   \n",
       "4              PCJ   31    60.8     190  Black  Female  Brown  Black  290118   \n",
       "\n",
       "         bmi  \n",
       "0  30.327787  \n",
       "1  23.731674  \n",
       "2  24.409722  \n",
       "3  32.806667  \n",
       "4  36.132812  "
      ]
     },
     "execution_count": 4,
     "metadata": {},
     "output_type": "execute_result"
    }
   ],
   "source": [
    "data['bmi'] = data.weight / data.height.map(lambda i: i**2) * 703\n",
    "data = data.loc[(data.weight >0) & (data.height > 0),:]\n",
    "data.head()"
   ]
  },
  {
   "cell_type": "code",
   "execution_count": 5,
   "metadata": {},
   "outputs": [
    {
     "data": {
      "text/plain": [
       "0.0    16.951196\n",
       "0.1    23.053627\n",
       "0.2    25.134141\n",
       "0.3    27.055054\n",
       "0.4    28.683805\n",
       "0.5    30.337170\n",
       "0.6    32.096701\n",
       "0.7    33.965149\n",
       "0.8    35.778861\n",
       "0.9    39.571009\n",
       "1.0    62.214761\n",
       "Name: bmi, dtype: float64"
      ]
     },
     "execution_count": 5,
     "metadata": {},
     "output_type": "execute_result"
    }
   ],
   "source": [
    "pd.Series.quantile(data.bmi, np.arange(0,1.1,0.1))"
   ]
  },
  {
   "cell_type": "code",
   "execution_count": 6,
   "metadata": {},
   "outputs": [
    {
     "data": {
      "text/plain": [
       "<matplotlib.axes._subplots.AxesSubplot at 0x7f51230e0b00>"
      ]
     },
     "execution_count": 6,
     "metadata": {},
     "output_type": "execute_result"
    },
    {
     "data": {
      "image/png": "[encoded data removed]",
      "text/plain": [
       "<Figure size 432x288 with 1 Axes>"
      ]
     },
     "metadata": {
      "needs_background": "light"
     },
     "output_type": "display_data"
    }
   ],
   "source": [
    "data.bmi.hist()"
   ]
  },
  {
   "cell_type": "code",
   "execution_count": 7,
   "metadata": {},
   "outputs": [
    {
     "data": {
      "text/plain": [
       "1_bmi_over_30     468\n",
       "0_bmi_below_30    421\n",
       "Name: label, dtype: int64"
      ]
     },
     "execution_count": 7,
     "metadata": {},
     "output_type": "execute_result"
    }
   ],
   "source": [
    "data['label'] = data.bmi.map(lambda i: '1_bmi_over_30' if i > 30 else '0_bmi_below_30')\n",
    "data.label.value_counts()"
   ]
  },
  {
   "cell_type": "code",
   "execution_count": 8,
   "metadata": {},
   "outputs": [],
   "source": [
    "# put train/valid data"
   ]
  },
  {
   "cell_type": "code",
   "execution_count": 9,
   "metadata": {},
   "outputs": [],
   "source": [
    "import shutil\n",
    "from pathlib import Path"
   ]
  },
  {
   "cell_type": "code",
   "execution_count": 10,
   "metadata": {},
   "outputs": [],
   "source": [
    "TRAIN_PATH = './train'\n",
    "VALID_PATH = './valid'\n",
    "IN_TRAIN_RATIO = 0.9"
   ]
  },
  {
   "cell_type": "code",
   "execution_count": 11,
   "metadata": {},
   "outputs": [],
   "source": [
    "def create_train_valid(path):\n",
    "    if path.exists():\n",
    "        shutil.rmtree(path)\n",
    "    path.mkdir(parents = True)"
   ]
  },
  {
   "cell_type": "code",
   "execution_count": 12,
   "metadata": {},
   "outputs": [],
   "source": [
    "create_train_valid(Path(TRAIN_PATH, '0'))\n",
    "create_train_valid(Path(TRAIN_PATH, '1'))\n",
    "create_train_valid(Path(VALID_PATH, '0'))\n",
    "create_train_valid(Path(VALID_PATH, '1'))"
   ]
  },
  {
   "cell_type": "code",
   "execution_count": 13,
   "metadata": {},
   "outputs": [],
   "source": [
    "in_train = np.random.uniform(size = len(data)) < IN_TRAIN_RATIO"
   ]
  },
  {
   "cell_type": "code",
   "execution_count": 14,
   "metadata": {},
   "outputs": [],
   "source": [
    "def move_image(bookids, path):\n",
    "    for bookid in bookids:\n",
    "        try:\n",
    "            shutil.copy(Path('./face','{}.jpg'.format(bookid)), path)\n",
    "        except:\n",
    "            print('./face/{}.jpg missing'.format(bookid))\n",
    "            continue"
   ]
  },
  {
   "cell_type": "code",
   "execution_count": 15,
   "metadata": {},
   "outputs": [
    {
     "name": "stdout",
     "output_type": "stream",
     "text": [
      "1) moving train set - label 1\n",
      "./face/296500.jpg missing\n",
      "./face/296874.jpg missing\n",
      "2) moving train set - label 0\n",
      "./face/297231.jpg missing\n",
      "3) moving valid set - label 1\n",
      "4) moving valid set - label 0\n"
     ]
    }
   ],
   "source": [
    "print('1) moving train set - label 1')\n",
    "move_image(data.loc[(data.bmi > 30) & (in_train),'bookid'].values, Path(TRAIN_PATH,'1'))\n",
    "print('2) moving train set - label 0')\n",
    "move_image(data.loc[(data.bmi <= 30) & (in_train),'bookid'].values, Path(TRAIN_PATH,'0'))\n",
    "print('3) moving valid set - label 1')\n",
    "move_image(data.loc[(data.bmi > 30) & (~in_train),'bookid'].values, Path(VALID_PATH,'1'))\n",
    "print('4) moving valid set - label 0')\n",
    "move_image(data.loc[(data.bmi <= 30) & (~in_train),'bookid'].values, Path(VALID_PATH,'0'))"
   ]
  },
  {
   "cell_type": "code",
   "execution_count": 16,
   "metadata": {},
   "outputs": [],
   "source": [
    "# train model"
   ]
  },
  {
   "cell_type": "code",
   "execution_count": 17,
   "metadata": {},
   "outputs": [],
   "source": [
    "import tensorflow as tf\n",
    "from tensorflow.keras.applications.resnet50 import ResNet50, preprocess_input\n",
    "from tensorflow.keras.preprocessing.image import ImageDataGenerator\n",
    "from tensorflow.keras.layers import Dense, Dropout, GlobalAveragePooling2D\n",
    "from tensorflow.keras.models import Model"
   ]
  },
  {
   "cell_type": "code",
   "execution_count": 18,
   "metadata": {},
   "outputs": [],
   "source": [
    "DROP_RATE = 0.0"
   ]
  },
  {
   "cell_type": "code",
   "execution_count": 19,
   "metadata": {},
   "outputs": [
    {
     "name": "stderr",
     "output_type": "stream",
     "text": [
      "/home/chaoran/anaconda3/envs/mypy36/lib/python3.6/site-packages/keras_applications/resnet50.py:265: UserWarning: The output shape of `ResNet50(include_top=False)` has been changed since Keras 2.2.0.\n",
      "  warnings.warn('The output shape of `ResNet50(include_top=False)` '\n"
     ]
    }
   ],
   "source": [
    "base_model = ResNet50(weights = 'imagenet', include_top = False)"
   ]
  },
  {
   "cell_type": "code",
   "execution_count": 20,
   "metadata": {},
   "outputs": [
    {
     "name": "stderr",
     "output_type": "stream",
     "text": [
      "WARNING: Logging before flag parsing goes to stderr.\n",
      "W0804 18:01:34.277585 139987261196096 deprecation.py:506] From /home/chaoran/anaconda3/envs/mypy36/lib/python3.6/site-packages/tensorflow/python/ops/init_ops.py:1251: calling VarianceScaling.__init__ (from tensorflow.python.ops.init_ops) with dtype is deprecated and will be removed in a future version.\n",
      "Instructions for updating:\n",
      "Call initializer instance with the dtype argument instead of passing it to the constructor\n"
     ]
    }
   ],
   "source": [
    "x = GlobalAveragePooling2D()(base_model.output)\n",
    "x = Dropout(DROP_RATE)(x)\n",
    "x = Dense(1024, activation='relu')(x)\n",
    "x = Dense(2, activation='softmax')(x)"
   ]
  },
  {
   "cell_type": "code",
   "execution_count": 21,
   "metadata": {},
   "outputs": [],
   "source": [
    "model = Model(base_model.input, x)"
   ]
  },
  {
   "cell_type": "code",
   "execution_count": 22,
   "metadata": {},
   "outputs": [],
   "source": [
    "num_base_model_layers = len(base_model.layers)\n",
    "for layer in model.layers[:num_base_model_layers]:\n",
    "    layer.trainable = False\n",
    "for layer in model.layers[num_base_model_layers:]:\n",
    "    layer.trainable = True"
   ]
  },
  {
   "cell_type": "code",
   "execution_count": 31,
   "metadata": {},
   "outputs": [
    {
     "name": "stdout",
     "output_type": "stream",
     "text": [
      "Found 793 images belonging to 2 classes.\n",
      "Found 93 images belonging to 2 classes.\n"
     ]
    }
   ],
   "source": [
    "train_datagen=ImageDataGenerator(preprocessing_function=preprocess_input) #included in our dependencies\n",
    "\n",
    "train_generator=train_datagen.flow_from_directory(TRAIN_PATH,\n",
    "                                                 target_size=(224,224),\n",
    "                                                 color_mode='rgb',\n",
    "                                                 batch_size=32,\n",
    "                                                 class_mode='categorical',\n",
    "                                                 shuffle=True)\n",
    "\n",
    "valid_generator=train_datagen.flow_from_directory(VALID_PATH,\n",
    "                                                 target_size=(224,224),\n",
    "                                                 color_mode='rgb',\n",
    "                                                 batch_size=32,\n",
    "                                                 class_mode='categorical',\n",
    "                                                 shuffle=True)"
   ]
  },
  {
   "cell_type": "code",
   "execution_count": 32,
   "metadata": {},
   "outputs": [],
   "source": [
    "from PIL import ImageFile\n",
    "ImageFile.LOAD_TRUNCATED_IMAGES = True"
   ]
  },
  {
   "cell_type": "code",
   "execution_count": 36,
   "metadata": {},
   "outputs": [],
   "source": [
    "from tensorflow.python.client import device_lib\n",
    "\n",
    "def get_available_gpus():\n",
    "    local_device_protos = device_lib.list_local_devices()\n",
    "    return [x.name for x in local_device_protos if x.device_type == 'GPU']\n",
    "\n",
    "device_lib.list_local_devices()"
   ]
  },
  {
   "cell_type": "code",
   "execution_count": 33,
   "metadata": {},
   "outputs": [
    {
     "name": "stdout",
     "output_type": "stream",
     "text": [
      "Epoch 1/10\n",
      "24/24 [==============================] - 42s 2s/step - loss: 0.5510 - acc: 0.7175 - val_loss: 0.8731 - val_acc: 0.5806\n",
      "Epoch 2/10\n",
      "24/24 [==============================] - 41s 2s/step - loss: 0.5080 - acc: 0.7543 - val_loss: 0.8505 - val_acc: 0.6022\n",
      "Epoch 3/10\n",
      "24/24 [==============================] - 41s 2s/step - loss: 0.5129 - acc: 0.7464 - val_loss: 1.1359 - val_acc: 0.5806\n",
      "Epoch 4/10\n",
      "24/24 [==============================] - 41s 2s/step - loss: 0.4749 - acc: 0.7674 - val_loss: 0.7359 - val_acc: 0.6237\n",
      "Epoch 5/10\n",
      "24/24 [==============================] - 41s 2s/step - loss: 0.4078 - acc: 0.8344 - val_loss: 0.7757 - val_acc: 0.6237\n",
      "Epoch 6/10\n",
      "24/24 [==============================] - 41s 2s/step - loss: 0.3967 - acc: 0.8252 - val_loss: 0.6997 - val_acc: 0.5699\n",
      "Epoch 7/10\n",
      "24/24 [==============================] - 42s 2s/step - loss: 0.3865 - acc: 0.8242 - val_loss: 0.6983 - val_acc: 0.5914\n",
      "Epoch 8/10\n",
      "24/24 [==============================] - 41s 2s/step - loss: 0.3961 - acc: 0.8081 - val_loss: 0.7520 - val_acc: 0.5484\n",
      "Epoch 9/10\n",
      "24/24 [==============================] - 41s 2s/step - loss: 0.3725 - acc: 0.8263 - val_loss: 0.7339 - val_acc: 0.6022\n",
      "Epoch 10/10\n",
      "24/24 [==============================] - 41s 2s/step - loss: 0.2821 - acc: 0.8857 - val_loss: 0.7187 - val_acc: 0.6237\n"
     ]
    },
    {
     "data": {
      "text/plain": [
       "<tensorflow.python.keras.callbacks.History at 0x7f5079fadd68>"
      ]
     },
     "execution_count": 33,
     "metadata": {},
     "output_type": "execute_result"
    }
   ],
   "source": [
    "model.compile(optimizer='Adam',loss='categorical_crossentropy',metrics=['accuracy'])\n",
    "# Adam optimizer\n",
    "# loss function will be categorical cross entropy\n",
    "# evaluation metric will be accuracy\n",
    "\n",
    "step_size_train=train_generator.n//train_generator.batch_size\n",
    "model.fit_generator(generator=train_generator,\n",
    "                   steps_per_epoch=step_size_train,\n",
    "                    validation_data=valid_generator,\n",
    "                   epochs=10)"
   ]
  },
  {
   "cell_type": "code",
   "execution_count": 39,
   "metadata": {},
   "outputs": [
    {
     "data": {
      "text/plain": [
       "[name: \"/device:CPU:0\"\n",
       " device_type: \"CPU\"\n",
       " memory_limit: 268435456\n",
       " locality {\n",
       " }\n",
       " incarnation: 640886491962348914, name: \"/device:XLA_CPU:0\"\n",
       " device_type: \"XLA_CPU\"\n",
       " memory_limit: 17179869184\n",
       " locality {\n",
       " }\n",
       " incarnation: 10890493626314718114\n",
       " physical_device_desc: \"device: XLA_CPU device\"]"
      ]
     },
     "execution_count": 39,
     "metadata": {},
     "output_type": "execute_result"
    }
   ],
   "source": []
  },
  {
   "cell_type": "code",
   "execution_count": null,
   "metadata": {},
   "outputs": [],
   "source": []
  }
 ],
 "metadata": {
  "kernelspec": {
   "display_name": "mypy36",
   "language": "python",
   "name": "myenv"
  },
  "language_info": {
   "codemirror_mode": {
    "name": "ipython",
    "version": 3
   },
   "file_extension": ".py",
   "mimetype": "text/x-python",
   "name": "python",
   "nbconvert_exporter": "python",
   "pygments_lexer": "ipython3",
   "version": "3.6.8"
  }
 },
 "nbformat": 4,
 "nbformat_minor": 2
}
